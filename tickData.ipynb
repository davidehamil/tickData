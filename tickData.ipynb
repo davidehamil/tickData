{
 "cells": [
  {
   "cell_type": "code",
   "execution_count": 1,
   "metadata": {},
   "outputs": [],
   "source": [
    "import os\n",
    "import numpy as np\n",
    "import pandas as pd\n",
    "\n",
    "from sklearn.preprocessing import StandardScaler\n",
    "from sklearn.compose import ColumnTransformer, make_column_transformer\n",
    "from sklearn.svm import LinearSVC\n",
    "from sklearn.neighbors import KNeighborsClassifier\n",
    "from sklearn.ensemble import RandomForestClassifier, AdaBoostClassifier, GradientBoostingClassifier\n",
    "from mlxtend.classifier import StackingClassifier, EnsembleVoteClassifier\n",
    "\n",
    "import matplotlib.pyplot as plt\n",
    "%matplotlib inline"
   ]
  },
  {
   "cell_type": "markdown",
   "metadata": {},
   "source": [
    "## Data Cleaning"
   ]
  },
  {
   "cell_type": "markdown",
   "metadata": {},
   "source": [
    "#### Set filepath to tick data"
   ]
  },
  {
   "cell_type": "code",
   "execution_count": 2,
   "metadata": {},
   "outputs": [
    {
     "data": {
      "text/plain": [
       "'C:\\\\Users\\\\daveh\\\\Documents\\\\Options\\\\Trading'"
      ]
     },
     "execution_count": 2,
     "metadata": {},
     "output_type": "execute_result"
    }
   ],
   "source": [
    "filepath = r'C:\\Users\\daveh\\Documents\\Options\\Trading'\n",
    "filepath"
   ]
  },
  {
   "cell_type": "markdown",
   "metadata": {},
   "source": [
    "#### Designate file containing tick data"
   ]
  },
  {
   "cell_type": "code",
   "execution_count": 3,
   "metadata": {},
   "outputs": [],
   "source": [
    "file = 'train_tickData.csv'"
   ]
  },
  {
   "cell_type": "markdown",
   "metadata": {},
   "source": [
    "#### Combine path & file name to access tick data"
   ]
  },
  {
   "cell_type": "code",
   "execution_count": 4,
   "metadata": {},
   "outputs": [],
   "source": [
    "filename = os.path.join(filepath, file)"
   ]
  },
  {
   "cell_type": "markdown",
   "metadata": {},
   "source": [
    "#### Load tick data into Pandas dataframe"
   ]
  },
  {
   "cell_type": "code",
   "execution_count": 5,
   "metadata": {},
   "outputs": [
    {
     "data": {
      "text/html": [
       "<div>\n",
       "<style scoped>\n",
       "    .dataframe tbody tr th:only-of-type {\n",
       "        vertical-align: middle;\n",
       "    }\n",
       "\n",
       "    .dataframe tbody tr th {\n",
       "        vertical-align: top;\n",
       "    }\n",
       "\n",
       "    .dataframe thead th {\n",
       "        text-align: right;\n",
       "    }\n",
       "</style>\n",
       "<table border=\"1\" class=\"dataframe\">\n",
       "  <thead>\n",
       "    <tr style=\"text-align: right;\">\n",
       "      <th></th>\n",
       "      <th>bid</th>\n",
       "      <th>ask</th>\n",
       "      <th>logs</th>\n",
       "    </tr>\n",
       "  </thead>\n",
       "  <tbody>\n",
       "    <tr>\n",
       "      <th>0</th>\n",
       "      <td>239.692485</td>\n",
       "      <td>239.692485</td>\n",
       "      <td>MWFNZ</td>\n",
       "    </tr>\n",
       "    <tr>\n",
       "      <th>1</th>\n",
       "      <td>239.691083</td>\n",
       "      <td>239.691083</td>\n",
       "      <td>8LKAM</td>\n",
       "    </tr>\n",
       "    <tr>\n",
       "      <th>2</th>\n",
       "      <td>239.693094</td>\n",
       "      <td>239.693094</td>\n",
       "      <td>46SWQ</td>\n",
       "    </tr>\n",
       "    <tr>\n",
       "      <th>3</th>\n",
       "      <td>239.694853</td>\n",
       "      <td>239.694853</td>\n",
       "      <td>UGJ46</td>\n",
       "    </tr>\n",
       "    <tr>\n",
       "      <th>4</th>\n",
       "      <td>239.696852</td>\n",
       "      <td>239.696852</td>\n",
       "      <td>YPZ7E</td>\n",
       "    </tr>\n",
       "    <tr>\n",
       "      <th>5</th>\n",
       "      <td>239.702650</td>\n",
       "      <td>239.702650</td>\n",
       "      <td>6EBLE</td>\n",
       "    </tr>\n",
       "    <tr>\n",
       "      <th>6</th>\n",
       "      <td>239.700129</td>\n",
       "      <td>239.700129</td>\n",
       "      <td>GGDC2</td>\n",
       "    </tr>\n",
       "    <tr>\n",
       "      <th>7</th>\n",
       "      <td>239.683031</td>\n",
       "      <td>239.683031</td>\n",
       "      <td>U7U3F</td>\n",
       "    </tr>\n",
       "    <tr>\n",
       "      <th>8</th>\n",
       "      <td>239.682870</td>\n",
       "      <td>239.682870</td>\n",
       "      <td>6SG18</td>\n",
       "    </tr>\n",
       "    <tr>\n",
       "      <th>9</th>\n",
       "      <td>239.683741</td>\n",
       "      <td>239.683741</td>\n",
       "      <td>AUQDX</td>\n",
       "    </tr>\n",
       "  </tbody>\n",
       "</table>\n",
       "</div>"
      ],
      "text/plain": [
       "          bid         ask   logs\n",
       "0  239.692485  239.692485  MWFNZ\n",
       "1  239.691083  239.691083  8LKAM\n",
       "2  239.693094  239.693094  46SWQ\n",
       "3  239.694853  239.694853  UGJ46\n",
       "4  239.696852  239.696852  YPZ7E\n",
       "5  239.702650  239.702650  6EBLE\n",
       "6  239.700129  239.700129  GGDC2\n",
       "7  239.683031  239.683031  U7U3F\n",
       "8  239.682870  239.682870  6SG18\n",
       "9  239.683741  239.683741  AUQDX"
      ]
     },
     "execution_count": 5,
     "metadata": {},
     "output_type": "execute_result"
    }
   ],
   "source": [
    "df = pd.read_csv(filename, index_col=0)\n",
    "\n",
    "df.head(10)"
   ]
  },
  {
   "cell_type": "code",
   "execution_count": 6,
   "metadata": {},
   "outputs": [
    {
     "data": {
      "text/plain": [
       "bid     float64\n",
       "ask     float64\n",
       "logs     object\n",
       "dtype: object"
      ]
     },
     "execution_count": 6,
     "metadata": {},
     "output_type": "execute_result"
    }
   ],
   "source": [
    "df.dtypes"
   ]
  },
  {
   "cell_type": "code",
   "execution_count": 7,
   "metadata": {},
   "outputs": [
    {
     "data": {
      "text/plain": [
       "bid     18\n",
       "ask     22\n",
       "logs     0\n",
       "dtype: int64"
      ]
     },
     "execution_count": 7,
     "metadata": {},
     "output_type": "execute_result"
    }
   ],
   "source": [
    "# Check df for null values (NaNs)\n",
    "df.isna().sum()"
   ]
  },
  {
   "cell_type": "code",
   "execution_count": 8,
   "metadata": {},
   "outputs": [],
   "source": [
    "df.loc[df.bid.isnull(), 'bid'] = df.loc[df.bid.isnull(), 'ask']"
   ]
  },
  {
   "cell_type": "code",
   "execution_count": 9,
   "metadata": {},
   "outputs": [
    {
     "data": {
      "text/plain": [
       "bid      0\n",
       "ask     22\n",
       "logs     0\n",
       "dtype: int64"
      ]
     },
     "execution_count": 9,
     "metadata": {},
     "output_type": "execute_result"
    }
   ],
   "source": [
    "df.isna().sum()"
   ]
  },
  {
   "cell_type": "code",
   "execution_count": 10,
   "metadata": {},
   "outputs": [
    {
     "data": {
      "text/plain": [
       "bid     239.817\n",
       "ask     239.817\n",
       "logs      E69I2\n",
       "Name: 1138, dtype: object"
      ]
     },
     "execution_count": 10,
     "metadata": {},
     "output_type": "execute_result"
    }
   ],
   "source": [
    "df.iloc[1138]"
   ]
  },
  {
   "cell_type": "code",
   "execution_count": 11,
   "metadata": {},
   "outputs": [],
   "source": [
    "df.loc[df.ask.isnull(), 'ask'] = df.loc[df.ask.isnull(), 'bid']"
   ]
  },
  {
   "cell_type": "code",
   "execution_count": 12,
   "metadata": {},
   "outputs": [
    {
     "data": {
      "text/plain": [
       "bid     0\n",
       "ask     0\n",
       "logs    0\n",
       "dtype: int64"
      ]
     },
     "execution_count": 12,
     "metadata": {},
     "output_type": "execute_result"
    }
   ],
   "source": [
    "df.isna().sum()"
   ]
  },
  {
   "cell_type": "code",
   "execution_count": 13,
   "metadata": {},
   "outputs": [
    {
     "data": {
      "text/plain": [
       "bid     239.095\n",
       "ask     239.095\n",
       "logs      FLK2A\n",
       "Name: 13753, dtype: object"
      ]
     },
     "execution_count": 13,
     "metadata": {},
     "output_type": "execute_result"
    }
   ],
   "source": [
    "df.iloc[13753]"
   ]
  },
  {
   "cell_type": "code",
   "execution_count": 14,
   "metadata": {},
   "outputs": [
    {
     "data": {
      "text/html": [
       "<div>\n",
       "<style scoped>\n",
       "    .dataframe tbody tr th:only-of-type {\n",
       "        vertical-align: middle;\n",
       "    }\n",
       "\n",
       "    .dataframe tbody tr th {\n",
       "        vertical-align: top;\n",
       "    }\n",
       "\n",
       "    .dataframe thead th {\n",
       "        text-align: right;\n",
       "    }\n",
       "</style>\n",
       "<table border=\"1\" class=\"dataframe\">\n",
       "  <thead>\n",
       "    <tr style=\"text-align: right;\">\n",
       "      <th></th>\n",
       "      <th>bid</th>\n",
       "      <th>ask</th>\n",
       "      <th>logs</th>\n",
       "    </tr>\n",
       "  </thead>\n",
       "  <tbody>\n",
       "    <tr>\n",
       "      <th>13753</th>\n",
       "      <td>239.094852</td>\n",
       "      <td>239.094852</td>\n",
       "      <td>FLK2A</td>\n",
       "    </tr>\n",
       "    <tr>\n",
       "      <th>13754</th>\n",
       "      <td>239.093339</td>\n",
       "      <td>239.093339</td>\n",
       "      <td>OLP7D</td>\n",
       "    </tr>\n",
       "    <tr>\n",
       "      <th>13755</th>\n",
       "      <td>239.093783</td>\n",
       "      <td>239.093783</td>\n",
       "      <td>6IFQU</td>\n",
       "    </tr>\n",
       "    <tr>\n",
       "      <th>13756</th>\n",
       "      <td>239.090484</td>\n",
       "      <td>239.090484</td>\n",
       "      <td>ZDK8Q</td>\n",
       "    </tr>\n",
       "    <tr>\n",
       "      <th>13757</th>\n",
       "      <td>239.091613</td>\n",
       "      <td>239.091613</td>\n",
       "      <td>3OBBZ</td>\n",
       "    </tr>\n",
       "    <tr>\n",
       "      <th>13758</th>\n",
       "      <td>239.089933</td>\n",
       "      <td>239.089933</td>\n",
       "      <td>MIEB2</td>\n",
       "    </tr>\n",
       "    <tr>\n",
       "      <th>13759</th>\n",
       "      <td>239.088489</td>\n",
       "      <td>239.088489</td>\n",
       "      <td>R7JVH</td>\n",
       "    </tr>\n",
       "  </tbody>\n",
       "</table>\n",
       "</div>"
      ],
      "text/plain": [
       "              bid         ask   logs\n",
       "13753  239.094852  239.094852  FLK2A\n",
       "13754  239.093339  239.093339  OLP7D\n",
       "13755  239.093783  239.093783  6IFQU\n",
       "13756  239.090484  239.090484  ZDK8Q\n",
       "13757  239.091613  239.091613  3OBBZ\n",
       "13758  239.089933  239.089933  MIEB2\n",
       "13759  239.088489  239.088489  R7JVH"
      ]
     },
     "execution_count": 14,
     "metadata": {},
     "output_type": "execute_result"
    }
   ],
   "source": [
    "df.iloc[13753:13760]"
   ]
  },
  {
   "cell_type": "code",
   "execution_count": 15,
   "metadata": {},
   "outputs": [],
   "source": [
    "df[['bid', 'ask']] = df[['bid', 'ask']].round(4)"
   ]
  },
  {
   "cell_type": "code",
   "execution_count": 16,
   "metadata": {},
   "outputs": [
    {
     "data": {
      "text/html": [
       "<div>\n",
       "<style scoped>\n",
       "    .dataframe tbody tr th:only-of-type {\n",
       "        vertical-align: middle;\n",
       "    }\n",
       "\n",
       "    .dataframe tbody tr th {\n",
       "        vertical-align: top;\n",
       "    }\n",
       "\n",
       "    .dataframe thead th {\n",
       "        text-align: right;\n",
       "    }\n",
       "</style>\n",
       "<table border=\"1\" class=\"dataframe\">\n",
       "  <thead>\n",
       "    <tr style=\"text-align: right;\">\n",
       "      <th></th>\n",
       "      <th>bid</th>\n",
       "      <th>ask</th>\n",
       "      <th>logs</th>\n",
       "    </tr>\n",
       "  </thead>\n",
       "  <tbody>\n",
       "    <tr>\n",
       "      <th>13753</th>\n",
       "      <td>239.0949</td>\n",
       "      <td>239.0949</td>\n",
       "      <td>FLK2A</td>\n",
       "    </tr>\n",
       "    <tr>\n",
       "      <th>13754</th>\n",
       "      <td>239.0933</td>\n",
       "      <td>239.0933</td>\n",
       "      <td>OLP7D</td>\n",
       "    </tr>\n",
       "    <tr>\n",
       "      <th>13755</th>\n",
       "      <td>239.0938</td>\n",
       "      <td>239.0938</td>\n",
       "      <td>6IFQU</td>\n",
       "    </tr>\n",
       "    <tr>\n",
       "      <th>13756</th>\n",
       "      <td>239.0905</td>\n",
       "      <td>239.0905</td>\n",
       "      <td>ZDK8Q</td>\n",
       "    </tr>\n",
       "    <tr>\n",
       "      <th>13757</th>\n",
       "      <td>239.0916</td>\n",
       "      <td>239.0916</td>\n",
       "      <td>3OBBZ</td>\n",
       "    </tr>\n",
       "    <tr>\n",
       "      <th>13758</th>\n",
       "      <td>239.0899</td>\n",
       "      <td>239.0899</td>\n",
       "      <td>MIEB2</td>\n",
       "    </tr>\n",
       "    <tr>\n",
       "      <th>13759</th>\n",
       "      <td>239.0885</td>\n",
       "      <td>239.0885</td>\n",
       "      <td>R7JVH</td>\n",
       "    </tr>\n",
       "  </tbody>\n",
       "</table>\n",
       "</div>"
      ],
      "text/plain": [
       "            bid       ask   logs\n",
       "13753  239.0949  239.0949  FLK2A\n",
       "13754  239.0933  239.0933  OLP7D\n",
       "13755  239.0938  239.0938  6IFQU\n",
       "13756  239.0905  239.0905  ZDK8Q\n",
       "13757  239.0916  239.0916  3OBBZ\n",
       "13758  239.0899  239.0899  MIEB2\n",
       "13759  239.0885  239.0885  R7JVH"
      ]
     },
     "execution_count": 16,
     "metadata": {},
     "output_type": "execute_result"
    }
   ],
   "source": [
    "df.iloc[13753:13760]"
   ]
  },
  {
   "cell_type": "code",
   "execution_count": 17,
   "metadata": {},
   "outputs": [
    {
     "data": {
      "text/html": [
       "<div>\n",
       "<style scoped>\n",
       "    .dataframe tbody tr th:only-of-type {\n",
       "        vertical-align: middle;\n",
       "    }\n",
       "\n",
       "    .dataframe tbody tr th {\n",
       "        vertical-align: top;\n",
       "    }\n",
       "\n",
       "    .dataframe thead th {\n",
       "        text-align: right;\n",
       "    }\n",
       "</style>\n",
       "<table border=\"1\" class=\"dataframe\">\n",
       "  <thead>\n",
       "    <tr style=\"text-align: right;\">\n",
       "      <th></th>\n",
       "      <th>bid</th>\n",
       "      <th>ask</th>\n",
       "      <th>logs</th>\n",
       "    </tr>\n",
       "  </thead>\n",
       "  <tbody>\n",
       "    <tr>\n",
       "      <th>0</th>\n",
       "      <td>239.6925</td>\n",
       "      <td>239.6925</td>\n",
       "      <td>MWFNZ</td>\n",
       "    </tr>\n",
       "    <tr>\n",
       "      <th>1</th>\n",
       "      <td>239.6911</td>\n",
       "      <td>239.6911</td>\n",
       "      <td>8LKAM</td>\n",
       "    </tr>\n",
       "    <tr>\n",
       "      <th>2</th>\n",
       "      <td>239.6931</td>\n",
       "      <td>239.6931</td>\n",
       "      <td>46SWQ</td>\n",
       "    </tr>\n",
       "    <tr>\n",
       "      <th>3</th>\n",
       "      <td>239.6949</td>\n",
       "      <td>239.6949</td>\n",
       "      <td>UGJ46</td>\n",
       "    </tr>\n",
       "    <tr>\n",
       "      <th>4</th>\n",
       "      <td>239.6969</td>\n",
       "      <td>239.6969</td>\n",
       "      <td>YPZ7E</td>\n",
       "    </tr>\n",
       "    <tr>\n",
       "      <th>5</th>\n",
       "      <td>239.7027</td>\n",
       "      <td>239.7027</td>\n",
       "      <td>6EBLE</td>\n",
       "    </tr>\n",
       "    <tr>\n",
       "      <th>6</th>\n",
       "      <td>239.7001</td>\n",
       "      <td>239.7001</td>\n",
       "      <td>GGDC2</td>\n",
       "    </tr>\n",
       "    <tr>\n",
       "      <th>7</th>\n",
       "      <td>239.6830</td>\n",
       "      <td>239.6830</td>\n",
       "      <td>U7U3F</td>\n",
       "    </tr>\n",
       "    <tr>\n",
       "      <th>8</th>\n",
       "      <td>239.6829</td>\n",
       "      <td>239.6829</td>\n",
       "      <td>6SG18</td>\n",
       "    </tr>\n",
       "    <tr>\n",
       "      <th>9</th>\n",
       "      <td>239.6837</td>\n",
       "      <td>239.6837</td>\n",
       "      <td>AUQDX</td>\n",
       "    </tr>\n",
       "    <tr>\n",
       "      <th>10</th>\n",
       "      <td>239.6855</td>\n",
       "      <td>239.6855</td>\n",
       "      <td>7EZWF</td>\n",
       "    </tr>\n",
       "    <tr>\n",
       "      <th>11</th>\n",
       "      <td>239.6895</td>\n",
       "      <td>239.6895</td>\n",
       "      <td>E9H4K</td>\n",
       "    </tr>\n",
       "    <tr>\n",
       "      <th>12</th>\n",
       "      <td>239.6914</td>\n",
       "      <td>239.6914</td>\n",
       "      <td>MTI0I</td>\n",
       "    </tr>\n",
       "    <tr>\n",
       "      <th>13</th>\n",
       "      <td>239.6907</td>\n",
       "      <td>239.6907</td>\n",
       "      <td>EZPE7</td>\n",
       "    </tr>\n",
       "    <tr>\n",
       "      <th>14</th>\n",
       "      <td>239.6945</td>\n",
       "      <td>239.6945</td>\n",
       "      <td>2UR0E</td>\n",
       "    </tr>\n",
       "    <tr>\n",
       "      <th>15</th>\n",
       "      <td>239.6977</td>\n",
       "      <td>239.6977</td>\n",
       "      <td>3A7E5</td>\n",
       "    </tr>\n",
       "    <tr>\n",
       "      <th>16</th>\n",
       "      <td>239.6994</td>\n",
       "      <td>239.6994</td>\n",
       "      <td>UC0K6</td>\n",
       "    </tr>\n",
       "    <tr>\n",
       "      <th>17</th>\n",
       "      <td>239.7016</td>\n",
       "      <td>239.7016</td>\n",
       "      <td>KQRU4</td>\n",
       "    </tr>\n",
       "    <tr>\n",
       "      <th>18</th>\n",
       "      <td>239.7057</td>\n",
       "      <td>239.7057</td>\n",
       "      <td>RGRDP</td>\n",
       "    </tr>\n",
       "    <tr>\n",
       "      <th>19</th>\n",
       "      <td>239.7050</td>\n",
       "      <td>239.7050</td>\n",
       "      <td>U0IYI</td>\n",
       "    </tr>\n",
       "  </tbody>\n",
       "</table>\n",
       "</div>"
      ],
      "text/plain": [
       "         bid       ask   logs\n",
       "0   239.6925  239.6925  MWFNZ\n",
       "1   239.6911  239.6911  8LKAM\n",
       "2   239.6931  239.6931  46SWQ\n",
       "3   239.6949  239.6949  UGJ46\n",
       "4   239.6969  239.6969  YPZ7E\n",
       "5   239.7027  239.7027  6EBLE\n",
       "6   239.7001  239.7001  GGDC2\n",
       "7   239.6830  239.6830  U7U3F\n",
       "8   239.6829  239.6829  6SG18\n",
       "9   239.6837  239.6837  AUQDX\n",
       "10  239.6855  239.6855  7EZWF\n",
       "11  239.6895  239.6895  E9H4K\n",
       "12  239.6914  239.6914  MTI0I\n",
       "13  239.6907  239.6907  EZPE7\n",
       "14  239.6945  239.6945  2UR0E\n",
       "15  239.6977  239.6977  3A7E5\n",
       "16  239.6994  239.6994  UC0K6\n",
       "17  239.7016  239.7016  KQRU4\n",
       "18  239.7057  239.7057  RGRDP\n",
       "19  239.7050  239.7050  U0IYI"
      ]
     },
     "execution_count": 17,
     "metadata": {},
     "output_type": "execute_result"
    }
   ],
   "source": [
    "df.head(20)"
   ]
  },
  {
   "cell_type": "code",
   "execution_count": 18,
   "metadata": {},
   "outputs": [
    {
     "data": {
      "text/html": [
       "<div>\n",
       "<style scoped>\n",
       "    .dataframe tbody tr th:only-of-type {\n",
       "        vertical-align: middle;\n",
       "    }\n",
       "\n",
       "    .dataframe tbody tr th {\n",
       "        vertical-align: top;\n",
       "    }\n",
       "\n",
       "    .dataframe thead th {\n",
       "        text-align: right;\n",
       "    }\n",
       "</style>\n",
       "<table border=\"1\" class=\"dataframe\">\n",
       "  <thead>\n",
       "    <tr style=\"text-align: right;\">\n",
       "      <th></th>\n",
       "      <th>bid</th>\n",
       "      <th>ask</th>\n",
       "      <th>logs</th>\n",
       "    </tr>\n",
       "  </thead>\n",
       "  <tbody>\n",
       "    <tr>\n",
       "      <th>4886</th>\n",
       "      <td>0.0</td>\n",
       "      <td>238.8828</td>\n",
       "      <td>63SW2</td>\n",
       "    </tr>\n",
       "    <tr>\n",
       "      <th>31910</th>\n",
       "      <td>0.0</td>\n",
       "      <td>239.3720</td>\n",
       "      <td>08WGC</td>\n",
       "    </tr>\n",
       "    <tr>\n",
       "      <th>56375</th>\n",
       "      <td>0.0</td>\n",
       "      <td>238.8009</td>\n",
       "      <td>ULUP1</td>\n",
       "    </tr>\n",
       "    <tr>\n",
       "      <th>59773</th>\n",
       "      <td>0.0</td>\n",
       "      <td>240.2879</td>\n",
       "      <td>7ZI8N</td>\n",
       "    </tr>\n",
       "    <tr>\n",
       "      <th>71570</th>\n",
       "      <td>0.0</td>\n",
       "      <td>240.6847</td>\n",
       "      <td>2VF9J</td>\n",
       "    </tr>\n",
       "    <tr>\n",
       "      <th>94923</th>\n",
       "      <td>0.0</td>\n",
       "      <td>240.6113</td>\n",
       "      <td>JYLIC</td>\n",
       "    </tr>\n",
       "    <tr>\n",
       "      <th>112789</th>\n",
       "      <td>0.0</td>\n",
       "      <td>240.7772</td>\n",
       "      <td>UGKJI</td>\n",
       "    </tr>\n",
       "    <tr>\n",
       "      <th>119473</th>\n",
       "      <td>0.0</td>\n",
       "      <td>240.7767</td>\n",
       "      <td>5U464</td>\n",
       "    </tr>\n",
       "    <tr>\n",
       "      <th>128829</th>\n",
       "      <td>0.0</td>\n",
       "      <td>240.1755</td>\n",
       "      <td>M0DU2</td>\n",
       "    </tr>\n",
       "    <tr>\n",
       "      <th>130668</th>\n",
       "      <td>0.0</td>\n",
       "      <td>240.8778</td>\n",
       "      <td>UROEN</td>\n",
       "    </tr>\n",
       "    <tr>\n",
       "      <th>140012</th>\n",
       "      <td>0.0</td>\n",
       "      <td>241.0619</td>\n",
       "      <td>YO309</td>\n",
       "    </tr>\n",
       "    <tr>\n",
       "      <th>158178</th>\n",
       "      <td>0.0</td>\n",
       "      <td>243.5896</td>\n",
       "      <td>76BJ2</td>\n",
       "    </tr>\n",
       "    <tr>\n",
       "      <th>187826</th>\n",
       "      <td>0.0</td>\n",
       "      <td>245.5440</td>\n",
       "      <td>1ABTN</td>\n",
       "    </tr>\n",
       "    <tr>\n",
       "      <th>204497</th>\n",
       "      <td>0.0</td>\n",
       "      <td>245.6786</td>\n",
       "      <td>YTWS7</td>\n",
       "    </tr>\n",
       "    <tr>\n",
       "      <th>213389</th>\n",
       "      <td>0.0</td>\n",
       "      <td>245.3322</td>\n",
       "      <td>VE735</td>\n",
       "    </tr>\n",
       "    <tr>\n",
       "      <th>299480</th>\n",
       "      <td>0.0</td>\n",
       "      <td>246.9605</td>\n",
       "      <td>2ZP7S</td>\n",
       "    </tr>\n",
       "  </tbody>\n",
       "</table>\n",
       "</div>"
      ],
      "text/plain": [
       "        bid       ask   logs\n",
       "4886    0.0  238.8828  63SW2\n",
       "31910   0.0  239.3720  08WGC\n",
       "56375   0.0  238.8009  ULUP1\n",
       "59773   0.0  240.2879  7ZI8N\n",
       "71570   0.0  240.6847  2VF9J\n",
       "94923   0.0  240.6113  JYLIC\n",
       "112789  0.0  240.7772  UGKJI\n",
       "119473  0.0  240.7767  5U464\n",
       "128829  0.0  240.1755  M0DU2\n",
       "130668  0.0  240.8778  UROEN\n",
       "140012  0.0  241.0619  YO309\n",
       "158178  0.0  243.5896  76BJ2\n",
       "187826  0.0  245.5440  1ABTN\n",
       "204497  0.0  245.6786  YTWS7\n",
       "213389  0.0  245.3322  VE735\n",
       "299480  0.0  246.9605  2ZP7S"
      ]
     },
     "execution_count": 18,
     "metadata": {},
     "output_type": "execute_result"
    }
   ],
   "source": [
    "df.loc[df['bid'].values == 0]"
   ]
  },
  {
   "cell_type": "code",
   "execution_count": 19,
   "metadata": {},
   "outputs": [],
   "source": [
    "df.loc[df['bid'].values == 0, 'bid'] = df.loc[df['bid'].values == 0, 'ask']"
   ]
  },
  {
   "cell_type": "code",
   "execution_count": 20,
   "metadata": {},
   "outputs": [
    {
     "data": {
      "text/plain": [
       "bid     239.372\n",
       "ask     239.372\n",
       "logs      08WGC\n",
       "Name: 31910, dtype: object"
      ]
     },
     "execution_count": 20,
     "metadata": {},
     "output_type": "execute_result"
    }
   ],
   "source": [
    "df.iloc[31910]"
   ]
  },
  {
   "cell_type": "markdown",
   "metadata": {},
   "source": [
    "#### Calculate log returns on 'bid' column ${ln(\\frac{r_{t}}{r_{t-1}})}$"
   ]
  },
  {
   "cell_type": "code",
   "execution_count": 21,
   "metadata": {},
   "outputs": [],
   "source": [
    "df['logRet'] = np.log(df['bid'] / df['bid'].shift(1))\n",
    "df.dropna(inplace=True)"
   ]
  },
  {
   "cell_type": "code",
   "execution_count": 22,
   "metadata": {},
   "outputs": [
    {
     "data": {
      "text/html": [
       "<div>\n",
       "<style scoped>\n",
       "    .dataframe tbody tr th:only-of-type {\n",
       "        vertical-align: middle;\n",
       "    }\n",
       "\n",
       "    .dataframe tbody tr th {\n",
       "        vertical-align: top;\n",
       "    }\n",
       "\n",
       "    .dataframe thead th {\n",
       "        text-align: right;\n",
       "    }\n",
       "</style>\n",
       "<table border=\"1\" class=\"dataframe\">\n",
       "  <thead>\n",
       "    <tr style=\"text-align: right;\">\n",
       "      <th></th>\n",
       "      <th>bid</th>\n",
       "      <th>ask</th>\n",
       "      <th>logs</th>\n",
       "      <th>logRet</th>\n",
       "    </tr>\n",
       "  </thead>\n",
       "  <tbody>\n",
       "    <tr>\n",
       "      <th>1</th>\n",
       "      <td>239.6911</td>\n",
       "      <td>239.6911</td>\n",
       "      <td>8LKAM</td>\n",
       "      <td>-5.840834e-06</td>\n",
       "    </tr>\n",
       "    <tr>\n",
       "      <th>2</th>\n",
       "      <td>239.6931</td>\n",
       "      <td>239.6931</td>\n",
       "      <td>46SWQ</td>\n",
       "      <td>8.344038e-06</td>\n",
       "    </tr>\n",
       "    <tr>\n",
       "      <th>3</th>\n",
       "      <td>239.6949</td>\n",
       "      <td>239.6949</td>\n",
       "      <td>UGJ46</td>\n",
       "      <td>7.509575e-06</td>\n",
       "    </tr>\n",
       "    <tr>\n",
       "      <th>4</th>\n",
       "      <td>239.6969</td>\n",
       "      <td>239.6969</td>\n",
       "      <td>YPZ7E</td>\n",
       "      <td>8.343906e-06</td>\n",
       "    </tr>\n",
       "    <tr>\n",
       "      <th>5</th>\n",
       "      <td>239.7027</td>\n",
       "      <td>239.7027</td>\n",
       "      <td>6EBLE</td>\n",
       "      <td>2.419693e-05</td>\n",
       "    </tr>\n",
       "    <tr>\n",
       "      <th>6</th>\n",
       "      <td>239.7001</td>\n",
       "      <td>239.7001</td>\n",
       "      <td>GGDC2</td>\n",
       "      <td>-1.084683e-05</td>\n",
       "    </tr>\n",
       "    <tr>\n",
       "      <th>7</th>\n",
       "      <td>239.6830</td>\n",
       "      <td>239.6830</td>\n",
       "      <td>U7U3F</td>\n",
       "      <td>-7.134169e-05</td>\n",
       "    </tr>\n",
       "    <tr>\n",
       "      <th>8</th>\n",
       "      <td>239.6829</td>\n",
       "      <td>239.6829</td>\n",
       "      <td>6SG18</td>\n",
       "      <td>-4.172178e-07</td>\n",
       "    </tr>\n",
       "    <tr>\n",
       "      <th>9</th>\n",
       "      <td>239.6837</td>\n",
       "      <td>239.6837</td>\n",
       "      <td>AUQDX</td>\n",
       "      <td>3.337738e-06</td>\n",
       "    </tr>\n",
       "    <tr>\n",
       "      <th>10</th>\n",
       "      <td>239.6855</td>\n",
       "      <td>239.6855</td>\n",
       "      <td>7EZWF</td>\n",
       "      <td>7.509869e-06</td>\n",
       "    </tr>\n",
       "  </tbody>\n",
       "</table>\n",
       "</div>"
      ],
      "text/plain": [
       "         bid       ask   logs        logRet\n",
       "1   239.6911  239.6911  8LKAM -5.840834e-06\n",
       "2   239.6931  239.6931  46SWQ  8.344038e-06\n",
       "3   239.6949  239.6949  UGJ46  7.509575e-06\n",
       "4   239.6969  239.6969  YPZ7E  8.343906e-06\n",
       "5   239.7027  239.7027  6EBLE  2.419693e-05\n",
       "6   239.7001  239.7001  GGDC2 -1.084683e-05\n",
       "7   239.6830  239.6830  U7U3F -7.134169e-05\n",
       "8   239.6829  239.6829  6SG18 -4.172178e-07\n",
       "9   239.6837  239.6837  AUQDX  3.337738e-06\n",
       "10  239.6855  239.6855  7EZWF  7.509869e-06"
      ]
     },
     "execution_count": 22,
     "metadata": {},
     "output_type": "execute_result"
    }
   ],
   "source": [
    "df.head(10)"
   ]
  },
  {
   "cell_type": "markdown",
   "metadata": {},
   "source": [
    "### Add binary classifier label"
   ]
  },
  {
   "cell_type": "markdown",
   "metadata": {},
   "source": [
    "#### *1* = uptick (or unchanged), *0* = downtick"
   ]
  },
  {
   "cell_type": "code",
   "execution_count": 23,
   "metadata": {},
   "outputs": [],
   "source": [
    "classifier = pd.Series(np.where(df.logRet.values >= 0, 1, 0), df.index)\n",
    "\n",
    "df = df.assign(label = classifier)"
   ]
  },
  {
   "cell_type": "code",
   "execution_count": 24,
   "metadata": {},
   "outputs": [
    {
     "data": {
      "text/html": [
       "<div>\n",
       "<style scoped>\n",
       "    .dataframe tbody tr th:only-of-type {\n",
       "        vertical-align: middle;\n",
       "    }\n",
       "\n",
       "    .dataframe tbody tr th {\n",
       "        vertical-align: top;\n",
       "    }\n",
       "\n",
       "    .dataframe thead th {\n",
       "        text-align: right;\n",
       "    }\n",
       "</style>\n",
       "<table border=\"1\" class=\"dataframe\">\n",
       "  <thead>\n",
       "    <tr style=\"text-align: right;\">\n",
       "      <th></th>\n",
       "      <th>bid</th>\n",
       "      <th>ask</th>\n",
       "      <th>logs</th>\n",
       "      <th>logRet</th>\n",
       "      <th>label</th>\n",
       "    </tr>\n",
       "  </thead>\n",
       "  <tbody>\n",
       "    <tr>\n",
       "      <th>1</th>\n",
       "      <td>239.6911</td>\n",
       "      <td>239.6911</td>\n",
       "      <td>8LKAM</td>\n",
       "      <td>-5.840834e-06</td>\n",
       "      <td>0</td>\n",
       "    </tr>\n",
       "    <tr>\n",
       "      <th>2</th>\n",
       "      <td>239.6931</td>\n",
       "      <td>239.6931</td>\n",
       "      <td>46SWQ</td>\n",
       "      <td>8.344038e-06</td>\n",
       "      <td>1</td>\n",
       "    </tr>\n",
       "    <tr>\n",
       "      <th>3</th>\n",
       "      <td>239.6949</td>\n",
       "      <td>239.6949</td>\n",
       "      <td>UGJ46</td>\n",
       "      <td>7.509575e-06</td>\n",
       "      <td>1</td>\n",
       "    </tr>\n",
       "    <tr>\n",
       "      <th>4</th>\n",
       "      <td>239.6969</td>\n",
       "      <td>239.6969</td>\n",
       "      <td>YPZ7E</td>\n",
       "      <td>8.343906e-06</td>\n",
       "      <td>1</td>\n",
       "    </tr>\n",
       "    <tr>\n",
       "      <th>5</th>\n",
       "      <td>239.7027</td>\n",
       "      <td>239.7027</td>\n",
       "      <td>6EBLE</td>\n",
       "      <td>2.419693e-05</td>\n",
       "      <td>1</td>\n",
       "    </tr>\n",
       "    <tr>\n",
       "      <th>6</th>\n",
       "      <td>239.7001</td>\n",
       "      <td>239.7001</td>\n",
       "      <td>GGDC2</td>\n",
       "      <td>-1.084683e-05</td>\n",
       "      <td>0</td>\n",
       "    </tr>\n",
       "    <tr>\n",
       "      <th>7</th>\n",
       "      <td>239.6830</td>\n",
       "      <td>239.6830</td>\n",
       "      <td>U7U3F</td>\n",
       "      <td>-7.134169e-05</td>\n",
       "      <td>0</td>\n",
       "    </tr>\n",
       "    <tr>\n",
       "      <th>8</th>\n",
       "      <td>239.6829</td>\n",
       "      <td>239.6829</td>\n",
       "      <td>6SG18</td>\n",
       "      <td>-4.172178e-07</td>\n",
       "      <td>0</td>\n",
       "    </tr>\n",
       "    <tr>\n",
       "      <th>9</th>\n",
       "      <td>239.6837</td>\n",
       "      <td>239.6837</td>\n",
       "      <td>AUQDX</td>\n",
       "      <td>3.337738e-06</td>\n",
       "      <td>1</td>\n",
       "    </tr>\n",
       "    <tr>\n",
       "      <th>10</th>\n",
       "      <td>239.6855</td>\n",
       "      <td>239.6855</td>\n",
       "      <td>7EZWF</td>\n",
       "      <td>7.509869e-06</td>\n",
       "      <td>1</td>\n",
       "    </tr>\n",
       "  </tbody>\n",
       "</table>\n",
       "</div>"
      ],
      "text/plain": [
       "         bid       ask   logs        logRet  label\n",
       "1   239.6911  239.6911  8LKAM -5.840834e-06      0\n",
       "2   239.6931  239.6931  46SWQ  8.344038e-06      1\n",
       "3   239.6949  239.6949  UGJ46  7.509575e-06      1\n",
       "4   239.6969  239.6969  YPZ7E  8.343906e-06      1\n",
       "5   239.7027  239.7027  6EBLE  2.419693e-05      1\n",
       "6   239.7001  239.7001  GGDC2 -1.084683e-05      0\n",
       "7   239.6830  239.6830  U7U3F -7.134169e-05      0\n",
       "8   239.6829  239.6829  6SG18 -4.172178e-07      0\n",
       "9   239.6837  239.6837  AUQDX  3.337738e-06      1\n",
       "10  239.6855  239.6855  7EZWF  7.509869e-06      1"
      ]
     },
     "execution_count": 24,
     "metadata": {},
     "output_type": "execute_result"
    }
   ],
   "source": [
    "df.head(10)"
   ]
  },
  {
   "cell_type": "markdown",
   "metadata": {},
   "source": [
    "#### Pickle cleaned dataframe (*if desired*)"
   ]
  },
  {
   "cell_type": "code",
   "execution_count": 25,
   "metadata": {},
   "outputs": [],
   "source": [
    "picklePath = r'C:\\Users\\daveh\\Documents\\Options\\Trading'\n",
    "\n",
    "df.to_pickle(os.path.join(picklePath, 'tickData.pkl'))"
   ]
  },
  {
   "cell_type": "markdown",
   "metadata": {},
   "source": [
    "#  "
   ]
  },
  {
   "cell_type": "markdown",
   "metadata": {},
   "source": [
    "## Model Training & Testing"
   ]
  },
  {
   "cell_type": "markdown",
   "metadata": {},
   "source": [
    "#### Import cleaned dataframe from pickle file (*if desired*)"
   ]
  },
  {
   "cell_type": "code",
   "execution_count": 26,
   "metadata": {},
   "outputs": [],
   "source": [
    "# SET PATH TO PICKLED FILE:\n",
    "picklePath = r'C:\\Users\\daveh\\Documents\\Options\\Trading'\n",
    "\n",
    "df = pd.read_pickle(os.path.join(picklePath, 'tickData.pkl'))"
   ]
  },
  {
   "cell_type": "markdown",
   "metadata": {},
   "source": [
    "### Group 1: Classification with Binary (Classifier) Label as x & y-variables"
   ]
  },
  {
   "cell_type": "markdown",
   "metadata": {},
   "source": [
    "#### Divide dataset into 70/30 (%) Train/Test Split"
   ]
  },
  {
   "cell_type": "code",
   "execution_count": 27,
   "metadata": {},
   "outputs": [
    {
     "name": "stdout",
     "output_type": "stream",
     "text": [
      "(209999, 5)\n",
      "(90000, 5)\n"
     ]
    }
   ],
   "source": [
    "nTrain = int(.70*df.shape[0])\n",
    "train, test = df[0:nTrain], df[nTrain:df.shape[0]]\n",
    "\n",
    "train.is_copy = False\n",
    "test.is_copy = False\n",
    "\n",
    "print(train.shape)\n",
    "print(test.shape)"
   ]
  },
  {
   "cell_type": "markdown",
   "metadata": {},
   "source": [
    "#### Define x, y variables for Train & Test sets, set *nlags* for # of lagged returns to use with x-variable"
   ]
  },
  {
   "cell_type": "code",
   "execution_count": 28,
   "metadata": {},
   "outputs": [
    {
     "name": "stdout",
     "output_type": "stream",
     "text": [
      "x_train:  (209994, 5)\n",
      "x_test:  (89995, 5)\n"
     ]
    }
   ],
   "source": [
    "nlags = 5\n",
    "\n",
    "# CALCULATE TRAINING SET\n",
    "y_train = train.loc[:,'label'].values[nlags:]\n",
    "x_train = train.loc[:,'label'].shift(1).values[nlags:]\n",
    "for i in range(2,nlags+1):\n",
    "    lagged_train = train.loc[:,'label'].shift(i).values[nlags:]\n",
    "    x_train = np.column_stack((x_train, lagged_train))\n",
    "    #x_train = np.concatenate((x_train, lagged_train.T), axis=1)\n",
    "\n",
    "print('x_train: ',x_train.shape)\n",
    "\n",
    "# CALCULATE TEST SET\n",
    "y_test = test.loc[:,'label'].values[nlags:]\n",
    "x_test = test.loc[:,'label'].shift(1).values[nlags:]\n",
    "for i in range(2,nlags+1):\n",
    "    lagged_test = test.loc[:,'label'].shift(i).values[nlags:]\n",
    "    x_test = np.column_stack((x_test, lagged_test))\n",
    "    #x_test = np.concatenate((x_test, lagged_test.T), axis=1)\n",
    "\n",
    "print('x_test: ',x_test.shape)"
   ]
  },
  {
   "cell_type": "markdown",
   "metadata": {},
   "source": [
    "#### Calibrate Multiple Models: K-Nearest Neighbors (KNN), Support Vector Machine (SVM), Random Forest, Gradient Boost"
   ]
  },
  {
   "cell_type": "code",
   "execution_count": 29,
   "metadata": {},
   "outputs": [
    {
     "name": "stdout",
     "output_type": "stream",
     "text": [
      "Accuracy: 0.6765 [KNN]\n",
      "Accuracy: 0.7285 [Support Vector Machine]\n",
      "Accuracy: 0.7305 [RandomForest_gini]\n",
      "Accuracy: 0.7305 [RandomForest_entropy]\n",
      "Accuracy: 0.7305 [GradientBoostingClassifier]\n"
     ]
    }
   ],
   "source": [
    "clf1 = KNeighborsClassifier(n_neighbors=7)\n",
    "clf2 = LinearSVC(dual=False)\n",
    "clf3 = RandomForestClassifier(n_estimators=200, max_depth=5, n_jobs=1, criterion='gini', random_state=1)\n",
    "clf4 = RandomForestClassifier(n_estimators=200, max_depth=5, n_jobs=1, criterion='entropy', random_state=1)\n",
    "clf5 = GradientBoostingClassifier(learning_rate=0.05, subsample=0.5, max_depth=3, n_estimators=200)\n",
    "\n",
    "for clf, label in zip([clf1, clf2, clf3, clf4, clf5],\n",
    "                      ['KNN',\n",
    "                       'Support Vector Machine',\n",
    "                       'RandomForest_gini',\n",
    "                       'RandomForest_entropy',\n",
    "                       'GradientBoostingClassifier']):\n",
    "\n",
    "    print(\"Accuracy: %0.4f [%s]\" % (clf.fit(x_train, y_train).score(x_test, y_test), label))"
   ]
  },
  {
   "cell_type": "markdown",
   "metadata": {},
   "source": [
    "#### Model Stacking ('Wisdom of the Crowd\")"
   ]
  },
  {
   "cell_type": "code",
   "execution_count": 30,
   "metadata": {},
   "outputs": [
    {
     "data": {
      "text/plain": [
       "0.7305183621312296"
      ]
     },
     "execution_count": 30,
     "metadata": {},
     "output_type": "execute_result"
    }
   ],
   "source": [
    "sclf = StackingClassifier(classifiers=[clf3, clf4, clf5],\n",
    "                          use_probas=False,\n",
    "                          average_probas=False,\n",
    "                          meta_classifier=clf5)\n",
    "sclf.fit(x_train, y_train).score(x_test, y_test)"
   ]
  },
  {
   "cell_type": "markdown",
   "metadata": {},
   "source": [
    "#### Ensemble Classification"
   ]
  },
  {
   "cell_type": "code",
   "execution_count": 31,
   "metadata": {},
   "outputs": [
    {
     "data": {
      "text/plain": [
       "0.7305183621312296"
      ]
     },
     "execution_count": 31,
     "metadata": {},
     "output_type": "execute_result"
    }
   ],
   "source": [
    "eclf = EnsembleVoteClassifier(clfs=[clf3, clf4, clf5], weights=[1, 1, 2], voting='soft')\n",
    "eclf.fit(x_train, y_train).score(x_test, y_test)"
   ]
  },
  {
   "cell_type": "markdown",
   "metadata": {},
   "source": [
    "### Group 2: Classification with Log Returns as x-variable "
   ]
  },
  {
   "cell_type": "markdown",
   "metadata": {},
   "source": [
    "#### Divide dataset into 70/30 (%) Train/Test Split & Standardize Log Returns (*necessary for SVM*)"
   ]
  },
  {
   "cell_type": "code",
   "execution_count": 32,
   "metadata": {},
   "outputs": [
    {
     "name": "stdout",
     "output_type": "stream",
     "text": [
      "['logRet(scaled)']\n"
     ]
    },
    {
     "data": {
      "text/html": [
       "<div>\n",
       "<style scoped>\n",
       "    .dataframe tbody tr th:only-of-type {\n",
       "        vertical-align: middle;\n",
       "    }\n",
       "\n",
       "    .dataframe tbody tr th {\n",
       "        vertical-align: top;\n",
       "    }\n",
       "\n",
       "    .dataframe thead th {\n",
       "        text-align: right;\n",
       "    }\n",
       "</style>\n",
       "<table border=\"1\" class=\"dataframe\">\n",
       "  <thead>\n",
       "    <tr style=\"text-align: right;\">\n",
       "      <th></th>\n",
       "      <th>bid</th>\n",
       "      <th>ask</th>\n",
       "      <th>logs</th>\n",
       "      <th>logRet</th>\n",
       "      <th>logRet(scaled)</th>\n",
       "      <th>label</th>\n",
       "    </tr>\n",
       "  </thead>\n",
       "  <tbody>\n",
       "    <tr>\n",
       "      <th>1</th>\n",
       "      <td>239.6911</td>\n",
       "      <td>239.6911</td>\n",
       "      <td>8LKAM</td>\n",
       "      <td>-5.840834e-06</td>\n",
       "      <td>-0.194808</td>\n",
       "      <td>0</td>\n",
       "    </tr>\n",
       "    <tr>\n",
       "      <th>2</th>\n",
       "      <td>239.6931</td>\n",
       "      <td>239.6931</td>\n",
       "      <td>46SWQ</td>\n",
       "      <td>8.344038e-06</td>\n",
       "      <td>0.269408</td>\n",
       "      <td>1</td>\n",
       "    </tr>\n",
       "    <tr>\n",
       "      <th>3</th>\n",
       "      <td>239.6949</td>\n",
       "      <td>239.6949</td>\n",
       "      <td>UGJ46</td>\n",
       "      <td>7.509575e-06</td>\n",
       "      <td>0.242099</td>\n",
       "      <td>1</td>\n",
       "    </tr>\n",
       "    <tr>\n",
       "      <th>4</th>\n",
       "      <td>239.6969</td>\n",
       "      <td>239.6969</td>\n",
       "      <td>YPZ7E</td>\n",
       "      <td>8.343906e-06</td>\n",
       "      <td>0.269403</td>\n",
       "      <td>1</td>\n",
       "    </tr>\n",
       "    <tr>\n",
       "      <th>5</th>\n",
       "      <td>239.7027</td>\n",
       "      <td>239.7027</td>\n",
       "      <td>6EBLE</td>\n",
       "      <td>2.419693e-05</td>\n",
       "      <td>0.788211</td>\n",
       "      <td>1</td>\n",
       "    </tr>\n",
       "    <tr>\n",
       "      <th>6</th>\n",
       "      <td>239.7001</td>\n",
       "      <td>239.7001</td>\n",
       "      <td>GGDC2</td>\n",
       "      <td>-1.084683e-05</td>\n",
       "      <td>-0.358635</td>\n",
       "      <td>0</td>\n",
       "    </tr>\n",
       "    <tr>\n",
       "      <th>7</th>\n",
       "      <td>239.6830</td>\n",
       "      <td>239.6830</td>\n",
       "      <td>U7U3F</td>\n",
       "      <td>-7.134169e-05</td>\n",
       "      <td>-2.338397</td>\n",
       "      <td>0</td>\n",
       "    </tr>\n",
       "    <tr>\n",
       "      <th>8</th>\n",
       "      <td>239.6829</td>\n",
       "      <td>239.6829</td>\n",
       "      <td>6SG18</td>\n",
       "      <td>-4.172178e-07</td>\n",
       "      <td>-0.017314</td>\n",
       "      <td>0</td>\n",
       "    </tr>\n",
       "    <tr>\n",
       "      <th>9</th>\n",
       "      <td>239.6837</td>\n",
       "      <td>239.6837</td>\n",
       "      <td>AUQDX</td>\n",
       "      <td>3.337738e-06</td>\n",
       "      <td>0.105571</td>\n",
       "      <td>1</td>\n",
       "    </tr>\n",
       "    <tr>\n",
       "      <th>10</th>\n",
       "      <td>239.6855</td>\n",
       "      <td>239.6855</td>\n",
       "      <td>7EZWF</td>\n",
       "      <td>7.509869e-06</td>\n",
       "      <td>0.242109</td>\n",
       "      <td>1</td>\n",
       "    </tr>\n",
       "  </tbody>\n",
       "</table>\n",
       "</div>"
      ],
      "text/plain": [
       "         bid       ask   logs        logRet  logRet(scaled)  label\n",
       "1   239.6911  239.6911  8LKAM -5.840834e-06       -0.194808      0\n",
       "2   239.6931  239.6931  46SWQ  8.344038e-06        0.269408      1\n",
       "3   239.6949  239.6949  UGJ46  7.509575e-06        0.242099      1\n",
       "4   239.6969  239.6969  YPZ7E  8.343906e-06        0.269403      1\n",
       "5   239.7027  239.7027  6EBLE  2.419693e-05        0.788211      1\n",
       "6   239.7001  239.7001  GGDC2 -1.084683e-05       -0.358635      0\n",
       "7   239.6830  239.6830  U7U3F -7.134169e-05       -2.338397      0\n",
       "8   239.6829  239.6829  6SG18 -4.172178e-07       -0.017314      0\n",
       "9   239.6837  239.6837  AUQDX  3.337738e-06        0.105571      1\n",
       "10  239.6855  239.6855  7EZWF  7.509869e-06        0.242109      1"
      ]
     },
     "execution_count": 32,
     "metadata": {},
     "output_type": "execute_result"
    }
   ],
   "source": [
    "nTrain = int(.70*df.shape[0])\n",
    "train, test = df[0:nTrain], df[nTrain:df.shape[0]]\n",
    "\n",
    "sclTrain = train.copy()\n",
    "sclTest = test.copy()\n",
    "\n",
    "# SET FEATURE COLUMNS TO BE SCALED\n",
    "cols = ['logRet']\n",
    "\n",
    "trainFeatures = sclTrain[cols]\n",
    "testFeatures = sclTest[cols]\n",
    "\n",
    "scl = StandardScaler()\n",
    "trainFeatures = scl.fit_transform(trainFeatures.values)\n",
    "testFeatures = scl.transform(testFeatures.values)\n",
    "\n",
    "sclCols = [c+'(scaled)' for c in cols]\n",
    "print(sclCols)\n",
    "\n",
    "sclTrain[sclCols] = pd.DataFrame(trainFeatures, index = sclTrain.index)\n",
    "sclTest[sclCols] = pd.DataFrame(testFeatures, index = sclTest.index)\n",
    "\n",
    "sclTrain = sclTrain[ [ col for col in sclTrain.columns if col != 'label' ] + ['label'] ]\n",
    "sclTest = sclTest[ [ col for col in sclTest.columns if col != 'label' ] + ['label'] ]\n",
    "\n",
    "sclTrain.head(10)"
   ]
  },
  {
   "cell_type": "markdown",
   "metadata": {},
   "source": [
    "#### Define x, y variables for Train & Test sets, set *nlags* for # of lagged returns to use with x-variable"
   ]
  },
  {
   "cell_type": "code",
   "execution_count": 33,
   "metadata": {},
   "outputs": [
    {
     "name": "stdout",
     "output_type": "stream",
     "text": [
      "x_train:  (209989, 10)\n",
      "x_test:  (89990, 10)\n"
     ]
    },
    {
     "data": {
      "text/html": [
       "<div>\n",
       "<style scoped>\n",
       "    .dataframe tbody tr th:only-of-type {\n",
       "        vertical-align: middle;\n",
       "    }\n",
       "\n",
       "    .dataframe tbody tr th {\n",
       "        vertical-align: top;\n",
       "    }\n",
       "\n",
       "    .dataframe thead th {\n",
       "        text-align: right;\n",
       "    }\n",
       "</style>\n",
       "<table border=\"1\" class=\"dataframe\">\n",
       "  <thead>\n",
       "    <tr style=\"text-align: right;\">\n",
       "      <th></th>\n",
       "      <th>0</th>\n",
       "      <th>1</th>\n",
       "      <th>2</th>\n",
       "      <th>3</th>\n",
       "      <th>4</th>\n",
       "      <th>5</th>\n",
       "      <th>6</th>\n",
       "      <th>7</th>\n",
       "      <th>8</th>\n",
       "      <th>9</th>\n",
       "    </tr>\n",
       "  </thead>\n",
       "  <tbody>\n",
       "    <tr>\n",
       "      <th>0</th>\n",
       "      <td>0.242109</td>\n",
       "      <td>0.105571</td>\n",
       "      <td>-0.017314</td>\n",
       "      <td>-2.338397</td>\n",
       "      <td>-0.358635</td>\n",
       "      <td>0.788211</td>\n",
       "      <td>0.269403</td>\n",
       "      <td>0.242099</td>\n",
       "      <td>0.269408</td>\n",
       "      <td>-0.194808</td>\n",
       "    </tr>\n",
       "    <tr>\n",
       "      <th>1</th>\n",
       "      <td>0.542486</td>\n",
       "      <td>0.242109</td>\n",
       "      <td>0.105571</td>\n",
       "      <td>-0.017314</td>\n",
       "      <td>-2.338397</td>\n",
       "      <td>-0.358635</td>\n",
       "      <td>0.788211</td>\n",
       "      <td>0.269403</td>\n",
       "      <td>0.242099</td>\n",
       "      <td>0.269408</td>\n",
       "    </tr>\n",
       "    <tr>\n",
       "      <th>2</th>\n",
       "      <td>0.255756</td>\n",
       "      <td>0.542486</td>\n",
       "      <td>0.242109</td>\n",
       "      <td>0.105571</td>\n",
       "      <td>-0.017314</td>\n",
       "      <td>-2.338397</td>\n",
       "      <td>-0.358635</td>\n",
       "      <td>0.788211</td>\n",
       "      <td>0.269403</td>\n",
       "      <td>0.242099</td>\n",
       "    </tr>\n",
       "    <tr>\n",
       "      <th>3</th>\n",
       "      <td>-0.099234</td>\n",
       "      <td>0.255756</td>\n",
       "      <td>0.542486</td>\n",
       "      <td>0.242109</td>\n",
       "      <td>0.105571</td>\n",
       "      <td>-0.017314</td>\n",
       "      <td>-2.338397</td>\n",
       "      <td>-0.358635</td>\n",
       "      <td>0.788211</td>\n",
       "      <td>0.269403</td>\n",
       "    </tr>\n",
       "    <tr>\n",
       "      <th>4</th>\n",
       "      <td>0.515168</td>\n",
       "      <td>-0.099234</td>\n",
       "      <td>0.255756</td>\n",
       "      <td>0.542486</td>\n",
       "      <td>0.242109</td>\n",
       "      <td>0.105571</td>\n",
       "      <td>-0.017314</td>\n",
       "      <td>-2.338397</td>\n",
       "      <td>-0.358635</td>\n",
       "      <td>0.788211</td>\n",
       "    </tr>\n",
       "  </tbody>\n",
       "</table>\n",
       "</div>"
      ],
      "text/plain": [
       "          0         1         2         3         4         5         6  \\\n",
       "0  0.242109  0.105571 -0.017314 -2.338397 -0.358635  0.788211  0.269403   \n",
       "1  0.542486  0.242109  0.105571 -0.017314 -2.338397 -0.358635  0.788211   \n",
       "2  0.255756  0.542486  0.242109  0.105571 -0.017314 -2.338397 -0.358635   \n",
       "3 -0.099234  0.255756  0.542486  0.242109  0.105571 -0.017314 -2.338397   \n",
       "4  0.515168 -0.099234  0.255756  0.542486  0.242109  0.105571 -0.017314   \n",
       "\n",
       "          7         8         9  \n",
       "0  0.242099  0.269408 -0.194808  \n",
       "1  0.269403  0.242099  0.269408  \n",
       "2  0.788211  0.269403  0.242099  \n",
       "3 -0.358635  0.788211  0.269403  \n",
       "4 -2.338397 -0.358635  0.788211  "
      ]
     },
     "execution_count": 33,
     "metadata": {},
     "output_type": "execute_result"
    }
   ],
   "source": [
    "nlags = 10\n",
    "\n",
    "# SET COLUMNS TO USE AS X-VARIABLE(s)\n",
    "featureCols = ['logRet(scaled)']\n",
    "\n",
    "# CALCULATE TRAINING SET\n",
    "y_train = sclTrain.loc[:,'label'].values[nlags:]\n",
    "x_train = sclTrain.loc[:,featureCols].shift(1).values[nlags:]\n",
    "for i in range(2,nlags+1):\n",
    "    lagged_train = sclTrain.loc[:,featureCols].shift(i).values[nlags:]\n",
    "    x_train = np.column_stack((x_train, lagged_train))\n",
    "    #x_train = np.concatenate((x_train, lagged_train.T), axis=1)\n",
    "\n",
    "print('x_train: ',x_train.shape)\n",
    "\n",
    "# CALCULATE TEST SET\n",
    "y_test = sclTest.loc[:,'label'].values[nlags:]\n",
    "x_test = sclTest.loc[:,featureCols].shift(1).values[nlags:]\n",
    "for i in range(2,nlags+1):\n",
    "    lagged_test = sclTest.loc[:,featureCols].shift(i).values[nlags:]\n",
    "    x_test = np.column_stack((x_test, lagged_test))\n",
    "    #x_test = np.concatenate((x_test, lagged_test.T), axis=1)\n",
    "\n",
    "print('x_test: ',x_test.shape)\n",
    "\n",
    "df2 = pd.DataFrame(x_train)\n",
    "df2.head()"
   ]
  },
  {
   "cell_type": "markdown",
   "metadata": {},
   "source": [
    "#### Calibrate Multiple Models: KNN, SVM, RF & GB"
   ]
  },
  {
   "cell_type": "code",
   "execution_count": 34,
   "metadata": {},
   "outputs": [
    {
     "name": "stdout",
     "output_type": "stream",
     "text": [
      "Accuracy: 0.7183 [KNN]\n",
      "Accuracy: 0.7121 [Support Vector Machine]\n",
      "Accuracy: 0.7498 [RandomForest_gini]\n",
      "Accuracy: 0.7496 [RandomForest_entropy]\n",
      "Accuracy: 0.7508 [GradientBoostingClassifier]\n"
     ]
    }
   ],
   "source": [
    "clf1 = KNeighborsClassifier(n_neighbors=7)\n",
    "clf2 = LinearSVC(dual=False)\n",
    "clf3 = RandomForestClassifier(n_estimators=200, max_depth=5, n_jobs=1, criterion='gini', random_state=1)\n",
    "clf4 = RandomForestClassifier(n_estimators=200, max_depth=5, n_jobs=1, criterion='entropy', random_state=1)\n",
    "clf5 = GradientBoostingClassifier(learning_rate=0.05, subsample=0.5, max_depth=3, n_estimators=200)\n",
    "\n",
    "for clf, label in zip([clf1, clf2, clf3, clf4, clf5],\n",
    "                      ['KNN',\n",
    "                       'Support Vector Machine',\n",
    "                       'RandomForest_gini',\n",
    "                       'RandomForest_entropy',\n",
    "                       'GradientBoostingClassifier']):\n",
    "\n",
    "    print(\"Accuracy: %0.4f [%s]\" % (clf.fit(x_train, y_train).score(x_test, y_test), label))"
   ]
  },
  {
   "cell_type": "markdown",
   "metadata": {},
   "source": [
    "#### Model Stacking ('Wisdom of the Crowd\")"
   ]
  },
  {
   "cell_type": "code",
   "execution_count": 35,
   "metadata": {},
   "outputs": [
    {
     "data": {
      "text/plain": [
       "0.7502278030892321"
      ]
     },
     "execution_count": 35,
     "metadata": {},
     "output_type": "execute_result"
    }
   ],
   "source": [
    "sclf = StackingClassifier(classifiers=[clf3, clf4, clf5],\n",
    "                          use_probas=False,\n",
    "                          average_probas=False,\n",
    "                          meta_classifier=clf5)\n",
    "sclf.fit(x_train, y_train).score(x_test, y_test)"
   ]
  },
  {
   "cell_type": "markdown",
   "metadata": {},
   "source": [
    "#### Ensemble Classification"
   ]
  },
  {
   "cell_type": "code",
   "execution_count": 36,
   "metadata": {},
   "outputs": [
    {
     "data": {
      "text/plain": [
       "0.7513834870541172"
      ]
     },
     "execution_count": 36,
     "metadata": {},
     "output_type": "execute_result"
    }
   ],
   "source": [
    "eclf = EnsembleVoteClassifier(clfs=[clf3, clf4, clf5], weights=[1, 1, 2], voting='soft')\n",
    "eclf.fit(x_train, y_train).score(x_test, y_test)"
   ]
  },
  {
   "cell_type": "markdown",
   "metadata": {},
   "source": [
    "### Create Dataframe for projected strategy returns"
   ]
  },
  {
   "cell_type": "code",
   "execution_count": 37,
   "metadata": {},
   "outputs": [
    {
     "name": "stdout",
     "output_type": "stream",
     "text": [
      "(89990, 1)\n"
     ]
    },
    {
     "data": {
      "text/html": [
       "<div>\n",
       "<style scoped>\n",
       "    .dataframe tbody tr th:only-of-type {\n",
       "        vertical-align: middle;\n",
       "    }\n",
       "\n",
       "    .dataframe tbody tr th {\n",
       "        vertical-align: top;\n",
       "    }\n",
       "\n",
       "    .dataframe thead th {\n",
       "        text-align: right;\n",
       "    }\n",
       "</style>\n",
       "<table border=\"1\" class=\"dataframe\">\n",
       "  <thead>\n",
       "    <tr style=\"text-align: right;\">\n",
       "      <th></th>\n",
       "      <th>logRet</th>\n",
       "    </tr>\n",
       "  </thead>\n",
       "  <tbody>\n",
       "    <tr>\n",
       "      <th>0</th>\n",
       "      <td>-1.548691e-05</td>\n",
       "    </tr>\n",
       "    <tr>\n",
       "      <th>1</th>\n",
       "      <td>-6.520876e-06</td>\n",
       "    </tr>\n",
       "    <tr>\n",
       "      <th>2</th>\n",
       "      <td>-1.630226e-06</td>\n",
       "    </tr>\n",
       "    <tr>\n",
       "      <th>3</th>\n",
       "      <td>-4.075568e-07</td>\n",
       "    </tr>\n",
       "    <tr>\n",
       "      <th>4</th>\n",
       "      <td>-9.781414e-06</td>\n",
       "    </tr>\n",
       "  </tbody>\n",
       "</table>\n",
       "</div>"
      ],
      "text/plain": [
       "         logRet\n",
       "0 -1.548691e-05\n",
       "1 -6.520876e-06\n",
       "2 -1.630226e-06\n",
       "3 -4.075568e-07\n",
       "4 -9.781414e-06"
      ]
     },
     "execution_count": 37,
     "metadata": {},
     "output_type": "execute_result"
    }
   ],
   "source": [
    "df3 = pd.DataFrame(sclTest.loc[:,'logRet'].values[nlags:], columns=['logRet'])\n",
    "print (df3.shape)\n",
    "df3.head()"
   ]
  },
  {
   "cell_type": "markdown",
   "metadata": {},
   "source": [
    "#### Set y-predict vector for Top Performing Model (Gradient Boost)"
   ]
  },
  {
   "cell_type": "code",
   "execution_count": 38,
   "metadata": {},
   "outputs": [
    {
     "name": "stdout",
     "output_type": "stream",
     "text": [
      "0.7506278475386154\n"
     ]
    }
   ],
   "source": [
    "gbc = GradientBoostingClassifier(learning_rate=0.05, subsample=0.5, max_depth=3, n_estimators=200)\n",
    "print(gbc.fit(x_train,y_train).score(x_test, y_test))"
   ]
  },
  {
   "cell_type": "code",
   "execution_count": 39,
   "metadata": {},
   "outputs": [
    {
     "data": {
      "text/plain": [
       "(89990,)"
      ]
     },
     "execution_count": 39,
     "metadata": {},
     "output_type": "execute_result"
    }
   ],
   "source": [
    "gbcTrade = gbc.predict(x_test)\n",
    "gbcTrade.shape"
   ]
  },
  {
   "cell_type": "markdown",
   "metadata": {},
   "source": [
    "#### Add y-predict vector to new dataframe"
   ]
  },
  {
   "cell_type": "code",
   "execution_count": 40,
   "metadata": {},
   "outputs": [
    {
     "data": {
      "text/html": [
       "<div>\n",
       "<style scoped>\n",
       "    .dataframe tbody tr th:only-of-type {\n",
       "        vertical-align: middle;\n",
       "    }\n",
       "\n",
       "    .dataframe tbody tr th {\n",
       "        vertical-align: top;\n",
       "    }\n",
       "\n",
       "    .dataframe thead th {\n",
       "        text-align: right;\n",
       "    }\n",
       "</style>\n",
       "<table border=\"1\" class=\"dataframe\">\n",
       "  <thead>\n",
       "    <tr style=\"text-align: right;\">\n",
       "      <th></th>\n",
       "      <th>logRet</th>\n",
       "      <th>gbcTrade</th>\n",
       "    </tr>\n",
       "  </thead>\n",
       "  <tbody>\n",
       "    <tr>\n",
       "      <th>0</th>\n",
       "      <td>-1.548691e-05</td>\n",
       "      <td>0</td>\n",
       "    </tr>\n",
       "    <tr>\n",
       "      <th>1</th>\n",
       "      <td>-6.520876e-06</td>\n",
       "      <td>0</td>\n",
       "    </tr>\n",
       "    <tr>\n",
       "      <th>2</th>\n",
       "      <td>-1.630226e-06</td>\n",
       "      <td>0</td>\n",
       "    </tr>\n",
       "    <tr>\n",
       "      <th>3</th>\n",
       "      <td>-4.075568e-07</td>\n",
       "      <td>0</td>\n",
       "    </tr>\n",
       "    <tr>\n",
       "      <th>4</th>\n",
       "      <td>-9.781414e-06</td>\n",
       "      <td>0</td>\n",
       "    </tr>\n",
       "  </tbody>\n",
       "</table>\n",
       "</div>"
      ],
      "text/plain": [
       "         logRet  gbcTrade\n",
       "0 -1.548691e-05         0\n",
       "1 -6.520876e-06         0\n",
       "2 -1.630226e-06         0\n",
       "3 -4.075568e-07         0\n",
       "4 -9.781414e-06         0"
      ]
     },
     "execution_count": 40,
     "metadata": {},
     "output_type": "execute_result"
    }
   ],
   "source": [
    "df3['gbcTrade'] = gbcTrade\n",
    "df3.head()"
   ]
  },
  {
   "cell_type": "markdown",
   "metadata": {},
   "source": [
    "#### Calculate per-Trade (Log) returns"
   ]
  },
  {
   "cell_type": "code",
   "execution_count": 41,
   "metadata": {},
   "outputs": [
    {
     "data": {
      "text/html": [
       "<div>\n",
       "<style scoped>\n",
       "    .dataframe tbody tr th:only-of-type {\n",
       "        vertical-align: middle;\n",
       "    }\n",
       "\n",
       "    .dataframe tbody tr th {\n",
       "        vertical-align: top;\n",
       "    }\n",
       "\n",
       "    .dataframe thead th {\n",
       "        text-align: right;\n",
       "    }\n",
       "</style>\n",
       "<table border=\"1\" class=\"dataframe\">\n",
       "  <thead>\n",
       "    <tr style=\"text-align: right;\">\n",
       "      <th></th>\n",
       "      <th>logRet</th>\n",
       "      <th>gbcTrade</th>\n",
       "      <th>gbcRet</th>\n",
       "    </tr>\n",
       "  </thead>\n",
       "  <tbody>\n",
       "    <tr>\n",
       "      <th>0</th>\n",
       "      <td>-1.548691e-05</td>\n",
       "      <td>0</td>\n",
       "      <td>1.548691e-05</td>\n",
       "    </tr>\n",
       "    <tr>\n",
       "      <th>1</th>\n",
       "      <td>-6.520876e-06</td>\n",
       "      <td>0</td>\n",
       "      <td>6.520876e-06</td>\n",
       "    </tr>\n",
       "    <tr>\n",
       "      <th>2</th>\n",
       "      <td>-1.630226e-06</td>\n",
       "      <td>0</td>\n",
       "      <td>1.630226e-06</td>\n",
       "    </tr>\n",
       "    <tr>\n",
       "      <th>3</th>\n",
       "      <td>-4.075568e-07</td>\n",
       "      <td>0</td>\n",
       "      <td>4.075568e-07</td>\n",
       "    </tr>\n",
       "    <tr>\n",
       "      <th>4</th>\n",
       "      <td>-9.781414e-06</td>\n",
       "      <td>0</td>\n",
       "      <td>9.781414e-06</td>\n",
       "    </tr>\n",
       "  </tbody>\n",
       "</table>\n",
       "</div>"
      ],
      "text/plain": [
       "         logRet  gbcTrade        gbcRet\n",
       "0 -1.548691e-05         0  1.548691e-05\n",
       "1 -6.520876e-06         0  6.520876e-06\n",
       "2 -1.630226e-06         0  1.630226e-06\n",
       "3 -4.075568e-07         0  4.075568e-07\n",
       "4 -9.781414e-06         0  9.781414e-06"
      ]
     },
     "execution_count": 41,
     "metadata": {},
     "output_type": "execute_result"
    }
   ],
   "source": [
    "df3['gbcRet'] = np.where(df3.gbcTrade == 0, (df3.logRet * -1), df3.logRet)\n",
    "df3.head()"
   ]
  },
  {
   "cell_type": "markdown",
   "metadata": {},
   "source": [
    "#### Calculate Cumulative Trade (Log) returns"
   ]
  },
  {
   "cell_type": "code",
   "execution_count": 42,
   "metadata": {},
   "outputs": [
    {
     "data": {
      "text/html": [
       "<div>\n",
       "<style scoped>\n",
       "    .dataframe tbody tr th:only-of-type {\n",
       "        vertical-align: middle;\n",
       "    }\n",
       "\n",
       "    .dataframe tbody tr th {\n",
       "        vertical-align: top;\n",
       "    }\n",
       "\n",
       "    .dataframe thead th {\n",
       "        text-align: right;\n",
       "    }\n",
       "</style>\n",
       "<table border=\"1\" class=\"dataframe\">\n",
       "  <thead>\n",
       "    <tr style=\"text-align: right;\">\n",
       "      <th></th>\n",
       "      <th>logRet</th>\n",
       "      <th>gbcTrade</th>\n",
       "      <th>gbcRet</th>\n",
       "      <th>gbcTot</th>\n",
       "    </tr>\n",
       "  </thead>\n",
       "  <tbody>\n",
       "    <tr>\n",
       "      <th>0</th>\n",
       "      <td>-1.548691e-05</td>\n",
       "      <td>0</td>\n",
       "      <td>1.548691e-05</td>\n",
       "      <td>0.000015</td>\n",
       "    </tr>\n",
       "    <tr>\n",
       "      <th>1</th>\n",
       "      <td>-6.520876e-06</td>\n",
       "      <td>0</td>\n",
       "      <td>6.520876e-06</td>\n",
       "      <td>0.000022</td>\n",
       "    </tr>\n",
       "    <tr>\n",
       "      <th>2</th>\n",
       "      <td>-1.630226e-06</td>\n",
       "      <td>0</td>\n",
       "      <td>1.630226e-06</td>\n",
       "      <td>0.000024</td>\n",
       "    </tr>\n",
       "    <tr>\n",
       "      <th>3</th>\n",
       "      <td>-4.075568e-07</td>\n",
       "      <td>0</td>\n",
       "      <td>4.075568e-07</td>\n",
       "      <td>0.000024</td>\n",
       "    </tr>\n",
       "    <tr>\n",
       "      <th>4</th>\n",
       "      <td>-9.781414e-06</td>\n",
       "      <td>0</td>\n",
       "      <td>9.781414e-06</td>\n",
       "      <td>0.000034</td>\n",
       "    </tr>\n",
       "  </tbody>\n",
       "</table>\n",
       "</div>"
      ],
      "text/plain": [
       "         logRet  gbcTrade        gbcRet    gbcTot\n",
       "0 -1.548691e-05         0  1.548691e-05  0.000015\n",
       "1 -6.520876e-06         0  6.520876e-06  0.000022\n",
       "2 -1.630226e-06         0  1.630226e-06  0.000024\n",
       "3 -4.075568e-07         0  4.075568e-07  0.000024\n",
       "4 -9.781414e-06         0  9.781414e-06  0.000034"
      ]
     },
     "execution_count": 42,
     "metadata": {},
     "output_type": "execute_result"
    }
   ],
   "source": [
    "df3['gbcTot'] = df3['gbcRet'].cumsum()\n",
    "df3.head()"
   ]
  },
  {
   "cell_type": "markdown",
   "metadata": {},
   "source": [
    "### Group 3: Multiple Feature Classification - Log Returns & Binary Label as x-variable"
   ]
  },
  {
   "cell_type": "markdown",
   "metadata": {},
   "source": [
    "#### Define x, y variables for Train & Test sets, set *nlags* for # of lagged returns to use with x-variable"
   ]
  },
  {
   "cell_type": "code",
   "execution_count": 43,
   "metadata": {},
   "outputs": [
    {
     "name": "stdout",
     "output_type": "stream",
     "text": [
      "x_train:  (209989, 20)\n",
      "x_test:  (89990, 20)\n"
     ]
    },
    {
     "data": {
      "text/html": [
       "<div>\n",
       "<style scoped>\n",
       "    .dataframe tbody tr th:only-of-type {\n",
       "        vertical-align: middle;\n",
       "    }\n",
       "\n",
       "    .dataframe tbody tr th {\n",
       "        vertical-align: top;\n",
       "    }\n",
       "\n",
       "    .dataframe thead th {\n",
       "        text-align: right;\n",
       "    }\n",
       "</style>\n",
       "<table border=\"1\" class=\"dataframe\">\n",
       "  <thead>\n",
       "    <tr style=\"text-align: right;\">\n",
       "      <th></th>\n",
       "      <th>0</th>\n",
       "      <th>1</th>\n",
       "      <th>2</th>\n",
       "      <th>3</th>\n",
       "      <th>4</th>\n",
       "      <th>5</th>\n",
       "      <th>6</th>\n",
       "      <th>7</th>\n",
       "      <th>8</th>\n",
       "      <th>9</th>\n",
       "      <th>10</th>\n",
       "      <th>11</th>\n",
       "      <th>12</th>\n",
       "      <th>13</th>\n",
       "      <th>14</th>\n",
       "      <th>15</th>\n",
       "      <th>16</th>\n",
       "      <th>17</th>\n",
       "      <th>18</th>\n",
       "      <th>19</th>\n",
       "    </tr>\n",
       "  </thead>\n",
       "  <tbody>\n",
       "    <tr>\n",
       "      <th>0</th>\n",
       "      <td>0.242109</td>\n",
       "      <td>1.0</td>\n",
       "      <td>0.105571</td>\n",
       "      <td>1.0</td>\n",
       "      <td>-0.017314</td>\n",
       "      <td>0.0</td>\n",
       "      <td>-2.338397</td>\n",
       "      <td>0.0</td>\n",
       "      <td>-0.358635</td>\n",
       "      <td>0.0</td>\n",
       "      <td>0.788211</td>\n",
       "      <td>1.0</td>\n",
       "      <td>0.269403</td>\n",
       "      <td>1.0</td>\n",
       "      <td>0.242099</td>\n",
       "      <td>1.0</td>\n",
       "      <td>0.269408</td>\n",
       "      <td>1.0</td>\n",
       "      <td>-0.194808</td>\n",
       "      <td>0.0</td>\n",
       "    </tr>\n",
       "    <tr>\n",
       "      <th>1</th>\n",
       "      <td>0.542486</td>\n",
       "      <td>1.0</td>\n",
       "      <td>0.242109</td>\n",
       "      <td>1.0</td>\n",
       "      <td>0.105571</td>\n",
       "      <td>1.0</td>\n",
       "      <td>-0.017314</td>\n",
       "      <td>0.0</td>\n",
       "      <td>-2.338397</td>\n",
       "      <td>0.0</td>\n",
       "      <td>-0.358635</td>\n",
       "      <td>0.0</td>\n",
       "      <td>0.788211</td>\n",
       "      <td>1.0</td>\n",
       "      <td>0.269403</td>\n",
       "      <td>1.0</td>\n",
       "      <td>0.242099</td>\n",
       "      <td>1.0</td>\n",
       "      <td>0.269408</td>\n",
       "      <td>1.0</td>\n",
       "    </tr>\n",
       "    <tr>\n",
       "      <th>2</th>\n",
       "      <td>0.255756</td>\n",
       "      <td>1.0</td>\n",
       "      <td>0.542486</td>\n",
       "      <td>1.0</td>\n",
       "      <td>0.242109</td>\n",
       "      <td>1.0</td>\n",
       "      <td>0.105571</td>\n",
       "      <td>1.0</td>\n",
       "      <td>-0.017314</td>\n",
       "      <td>0.0</td>\n",
       "      <td>-2.338397</td>\n",
       "      <td>0.0</td>\n",
       "      <td>-0.358635</td>\n",
       "      <td>0.0</td>\n",
       "      <td>0.788211</td>\n",
       "      <td>1.0</td>\n",
       "      <td>0.269403</td>\n",
       "      <td>1.0</td>\n",
       "      <td>0.242099</td>\n",
       "      <td>1.0</td>\n",
       "    </tr>\n",
       "    <tr>\n",
       "      <th>3</th>\n",
       "      <td>-0.099234</td>\n",
       "      <td>0.0</td>\n",
       "      <td>0.255756</td>\n",
       "      <td>1.0</td>\n",
       "      <td>0.542486</td>\n",
       "      <td>1.0</td>\n",
       "      <td>0.242109</td>\n",
       "      <td>1.0</td>\n",
       "      <td>0.105571</td>\n",
       "      <td>1.0</td>\n",
       "      <td>-0.017314</td>\n",
       "      <td>0.0</td>\n",
       "      <td>-2.338397</td>\n",
       "      <td>0.0</td>\n",
       "      <td>-0.358635</td>\n",
       "      <td>0.0</td>\n",
       "      <td>0.788211</td>\n",
       "      <td>1.0</td>\n",
       "      <td>0.269403</td>\n",
       "      <td>1.0</td>\n",
       "    </tr>\n",
       "    <tr>\n",
       "      <th>4</th>\n",
       "      <td>0.515168</td>\n",
       "      <td>1.0</td>\n",
       "      <td>-0.099234</td>\n",
       "      <td>0.0</td>\n",
       "      <td>0.255756</td>\n",
       "      <td>1.0</td>\n",
       "      <td>0.542486</td>\n",
       "      <td>1.0</td>\n",
       "      <td>0.242109</td>\n",
       "      <td>1.0</td>\n",
       "      <td>0.105571</td>\n",
       "      <td>1.0</td>\n",
       "      <td>-0.017314</td>\n",
       "      <td>0.0</td>\n",
       "      <td>-2.338397</td>\n",
       "      <td>0.0</td>\n",
       "      <td>-0.358635</td>\n",
       "      <td>0.0</td>\n",
       "      <td>0.788211</td>\n",
       "      <td>1.0</td>\n",
       "    </tr>\n",
       "  </tbody>\n",
       "</table>\n",
       "</div>"
      ],
      "text/plain": [
       "          0    1         2    3         4    5         6    7         8    9  \\\n",
       "0  0.242109  1.0  0.105571  1.0 -0.017314  0.0 -2.338397  0.0 -0.358635  0.0   \n",
       "1  0.542486  1.0  0.242109  1.0  0.105571  1.0 -0.017314  0.0 -2.338397  0.0   \n",
       "2  0.255756  1.0  0.542486  1.0  0.242109  1.0  0.105571  1.0 -0.017314  0.0   \n",
       "3 -0.099234  0.0  0.255756  1.0  0.542486  1.0  0.242109  1.0  0.105571  1.0   \n",
       "4  0.515168  1.0 -0.099234  0.0  0.255756  1.0  0.542486  1.0  0.242109  1.0   \n",
       "\n",
       "         10   11        12   13        14   15        16   17        18   19  \n",
       "0  0.788211  1.0  0.269403  1.0  0.242099  1.0  0.269408  1.0 -0.194808  0.0  \n",
       "1 -0.358635  0.0  0.788211  1.0  0.269403  1.0  0.242099  1.0  0.269408  1.0  \n",
       "2 -2.338397  0.0 -0.358635  0.0  0.788211  1.0  0.269403  1.0  0.242099  1.0  \n",
       "3 -0.017314  0.0 -2.338397  0.0 -0.358635  0.0  0.788211  1.0  0.269403  1.0  \n",
       "4  0.105571  1.0 -0.017314  0.0 -2.338397  0.0 -0.358635  0.0  0.788211  1.0  "
      ]
     },
     "execution_count": 43,
     "metadata": {},
     "output_type": "execute_result"
    }
   ],
   "source": [
    "nlags = 10\n",
    "\n",
    "# SET COLUMNS TO USE AS X-VARIABLE(s)\n",
    "featureCols = ['logRet(scaled)','label']\n",
    "\n",
    "# CALCULATE TRAINING SET\n",
    "y_train = sclTrain.loc[:,'label'].values[nlags:]\n",
    "x_train = sclTrain.loc[:,featureCols].shift(1).values[nlags:]\n",
    "for i in range(2,nlags+1):\n",
    "    lagged_train = sclTrain.loc[:,featureCols].shift(i).values[nlags:]\n",
    "    x_train = np.column_stack((x_train, lagged_train))\n",
    "    #x_train = np.concatenate((x_train, lagged_train.T), axis=1)\n",
    "\n",
    "print('x_train: ',x_train.shape)\n",
    "\n",
    "# CALCULATE TEST SET\n",
    "y_test = sclTest.loc[:,'label'].values[nlags:]\n",
    "x_test = sclTest.loc[:,featureCols].shift(1).values[nlags:]\n",
    "for i in range(2,nlags+1):\n",
    "    lagged_test = sclTest.loc[:,featureCols].shift(i).values[nlags:]\n",
    "    x_test = np.column_stack((x_test, lagged_test))\n",
    "    #x_test = np.concatenate((x_test, lagged_test.T), axis=1)\n",
    "\n",
    "print('x_test: ',x_test.shape)\n",
    "\n",
    "df2 = pd.DataFrame(x_train)\n",
    "df2.head()"
   ]
  },
  {
   "cell_type": "code",
   "execution_count": 45,
   "metadata": {},
   "outputs": [
    {
     "name": "stdout",
     "output_type": "stream",
     "text": [
      "Accuracy: 0.7137 [KNN]\n",
      "Accuracy: 0.7292 [Support Vector Machine]\n",
      "Accuracy: 0.7434 [RandomForest_gini]\n",
      "Accuracy: 0.7431 [RandomForest_entropy]\n",
      "Accuracy: 0.7507 [GradientBoostingClassifier]\n"
     ]
    }
   ],
   "source": [
    "clf1 = KNeighborsClassifier(n_neighbors=7)\n",
    "clf2 = LinearSVC(dual=False)\n",
    "clf3 = RandomForestClassifier(n_estimators=200, max_depth=5, n_jobs=1, criterion='gini', random_state=1)\n",
    "clf4 = RandomForestClassifier(n_estimators=200, max_depth=5, n_jobs=1, criterion='entropy', random_state=1)\n",
    "clf5 = GradientBoostingClassifier(learning_rate=0.05, subsample=0.5, max_depth=3, n_estimators=200)\n",
    "\n",
    "for clf, label in zip([clf1, clf2, clf3, clf4, clf5],\n",
    "                      ['KNN',\n",
    "                       'Support Vector Machine',\n",
    "                       'RandomForest_gini',\n",
    "                       'RandomForest_entropy',\n",
    "                       'GradientBoostingClassifier']):\n",
    "\n",
    "    print(\"Accuracy: %0.4f [%s]\" % (clf.fit(x_train, y_train).score(x_test, y_test), label))"
   ]
  },
  {
   "cell_type": "markdown",
   "metadata": {},
   "source": [
    "#### Stacking ('Wisdom of the Crowd\")"
   ]
  },
  {
   "cell_type": "code",
   "execution_count": 46,
   "metadata": {},
   "outputs": [
    {
     "data": {
      "text/plain": [
       "0.7510390043338149"
      ]
     },
     "execution_count": 46,
     "metadata": {},
     "output_type": "execute_result"
    }
   ],
   "source": [
    "sclf = StackingClassifier(classifiers=[clf3, clf4, clf5],\n",
    "                          use_probas=False,\n",
    "                          average_probas=False,\n",
    "                          meta_classifier=clf5)\n",
    "sclf.fit(x_train, y_train).score(x_test, y_test)"
   ]
  },
  {
   "cell_type": "markdown",
   "metadata": {},
   "source": [
    "#### Ensemble Classification"
   ]
  },
  {
   "cell_type": "code",
   "execution_count": 47,
   "metadata": {},
   "outputs": [
    {
     "data": {
      "text/plain": [
       "0.7500833425936215"
      ]
     },
     "execution_count": 47,
     "metadata": {},
     "output_type": "execute_result"
    }
   ],
   "source": [
    "eclf = EnsembleVoteClassifier(clfs=[clf3, clf4, clf5], weights=[1, 1, 2], voting='soft')\n",
    "eclf.fit(x_train, y_train).score(x_test, y_test)"
   ]
  },
  {
   "cell_type": "markdown",
   "metadata": {},
   "source": [
    "#  "
   ]
  },
  {
   "cell_type": "markdown",
   "metadata": {},
   "source": [
    "## Plot Individual & Cumulative Returns for Top Predictive Model:"
   ]
  },
  {
   "cell_type": "markdown",
   "metadata": {},
   "source": [
    "### Classification with Log Returns as x-variable (*nlags=10*) - Gradient Boost "
   ]
  },
  {
   "cell_type": "markdown",
   "metadata": {},
   "source": [
    "#### Cumulative & Individual Log Returns"
   ]
  },
  {
   "cell_type": "code",
   "execution_count": 48,
   "metadata": {},
   "outputs": [
    {
     "data": {
      "text/plain": [
       "<matplotlib.legend.Legend at 0x259deff6320>"
      ]
     },
     "execution_count": 48,
     "metadata": {},
     "output_type": "execute_result"
    },
    {
     "data": {
      "image/png": "[encoded data removed]",
      "text/plain": [
       "<Figure size 864x432 with 1 Axes>"
      ]
     },
     "metadata": {
      "needs_background": "light"
     },
     "output_type": "display_data"
    }
   ],
   "source": [
    "df3[['gbcRet','gbcTot']].plot(figsize=(12,6))\n",
    "plt.legend(prop={'size': 16},labels=('Indiv. (Log) Ret','Cumulative (Log) Ret'))"
   ]
  },
  {
   "cell_type": "markdown",
   "metadata": {},
   "source": [
    "#### Individual Log Returns (Only)"
   ]
  },
  {
   "cell_type": "code",
   "execution_count": 49,
   "metadata": {},
   "outputs": [
    {
     "data": {
      "text/plain": [
       "<matplotlib.legend.Legend at 0x259df929358>"
      ]
     },
     "execution_count": 49,
     "metadata": {},
     "output_type": "execute_result"
    },
    {
     "data": {
      "image/png": "[encoded data removed]",
      "text/plain": [
       "<Figure size 864x432 with 1 Axes>"
      ]
     },
     "metadata": {
      "needs_background": "light"
     },
     "output_type": "display_data"
    }
   ],
   "source": [
    "df3['gbcRet'].plot(figsize=(12,6))\n",
    "plt.legend(prop={'size': 14},labels=('Indiv. Ret'))"
   ]
  },
  {
   "cell_type": "markdown",
   "metadata": {},
   "source": [
    "#### Breakdown of Individual Log Returns"
   ]
  },
  {
   "cell_type": "code",
   "execution_count": 50,
   "metadata": {},
   "outputs": [
    {
     "data": {
      "text/html": [
       "<div>\n",
       "<style scoped>\n",
       "    .dataframe tbody tr th:only-of-type {\n",
       "        vertical-align: middle;\n",
       "    }\n",
       "\n",
       "    .dataframe tbody tr th {\n",
       "        vertical-align: top;\n",
       "    }\n",
       "\n",
       "    .dataframe thead th {\n",
       "        text-align: right;\n",
       "    }\n",
       "</style>\n",
       "<table border=\"1\" class=\"dataframe\">\n",
       "  <thead>\n",
       "    <tr style=\"text-align: right;\">\n",
       "      <th></th>\n",
       "      <th>gbcRet</th>\n",
       "    </tr>\n",
       "  </thead>\n",
       "  <tbody>\n",
       "    <tr>\n",
       "      <th>count</th>\n",
       "      <td>89990.000000</td>\n",
       "    </tr>\n",
       "    <tr>\n",
       "      <th>mean</th>\n",
       "      <td>0.000006</td>\n",
       "    </tr>\n",
       "    <tr>\n",
       "      <th>std</th>\n",
       "      <td>0.000031</td>\n",
       "    </tr>\n",
       "    <tr>\n",
       "      <th>min</th>\n",
       "      <td>-0.000614</td>\n",
       "    </tr>\n",
       "    <tr>\n",
       "      <th>25%</th>\n",
       "      <td>-0.000000</td>\n",
       "    </tr>\n",
       "    <tr>\n",
       "      <th>50%</th>\n",
       "      <td>0.000007</td>\n",
       "    </tr>\n",
       "    <tr>\n",
       "      <th>75%</th>\n",
       "      <td>0.000013</td>\n",
       "    </tr>\n",
       "    <tr>\n",
       "      <th>max</th>\n",
       "      <td>0.000497</td>\n",
       "    </tr>\n",
       "  </tbody>\n",
       "</table>\n",
       "</div>"
      ],
      "text/plain": [
       "             gbcRet\n",
       "count  89990.000000\n",
       "mean       0.000006\n",
       "std        0.000031\n",
       "min       -0.000614\n",
       "25%       -0.000000\n",
       "50%        0.000007\n",
       "75%        0.000013\n",
       "max        0.000497"
      ]
     },
     "execution_count": 50,
     "metadata": {},
     "output_type": "execute_result"
    }
   ],
   "source": [
    "df3[['gbcRet']].describe()"
   ]
  },
  {
   "cell_type": "markdown",
   "metadata": {},
   "source": [
    "#### Calculate Strategy Sharpe based on n-projected trades/day"
   ]
  },
  {
   "cell_type": "code",
   "execution_count": 51,
   "metadata": {},
   "outputs": [
    {
     "name": "stdout",
     "output_type": "stream",
     "text": [
      "Sharpe (5000 trades/day) = 14.09\n"
     ]
    }
   ],
   "source": [
    "n=5000\n",
    "sharpe = np.sqrt(n)*(np.mean(df3.gbcRet)/np.std(df3.gbcRet))\n",
    "\n",
    "print('Sharpe (%s trades/day) = %0.2f' % (n, sharpe))"
   ]
  }
 ],
 "metadata": {
  "kernelspec": {
   "display_name": "Python 3",
   "language": "python",
   "name": "python3"
  },
  "language_info": {
   "codemirror_mode": {
    "name": "ipython",
    "version": 3
   },
   "file_extension": ".py",
   "mimetype": "text/x-python",
   "name": "python",
   "nbconvert_exporter": "python",
   "pygments_lexer": "ipython3",
   "version": "3.6.8"
  }
 },
 "nbformat": 4,
 "nbformat_minor": 4
}
